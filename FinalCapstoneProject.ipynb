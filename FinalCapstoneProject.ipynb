{
  "nbformat": 4,
  "nbformat_minor": 0,
  "metadata": {
    "colab": {
      "name": "FinalCapstoneProject.ipynb",
      "provenance": [],
      "collapsed_sections": []
    },
    "kernelspec": {
      "name": "python3",
      "display_name": "Python 3"
    }
  },
  "cells": [
    {
      "cell_type": "markdown",
      "metadata": {
        "id": "Xvb74DSuRqL5"
      },
      "source": [
        "**Introduction/Business Problem**  \n",
        "This project will help solve the problem of where to open a salad shop in the borough of Manhattan in New York City. I will use Foursquare's location data to find out where salad shops are currently located. I will then use a JSON file containing data about the boundaries of neighborhoods to figure out which neighborhoods might have more salad eaters than salad shops. This project would be of interest to the stakeholders of a salad chain such as Chopt, as well as to small business owners who are researching where to open a new location. "
      ]
    },
    {
      "cell_type": "markdown",
      "metadata": {
        "id": "ZrBIbtn_UHwp"
      },
      "source": [
        "**Data**  \n",
        "The first piece of data that I will need is the latitudinal and longitudinal coordinates of Manhattan, New York. To get this, I will use the module Nominatim from the geopy.geocoders package. I will search Manhattan, New York as an input and will get the latitude and longitude coordinates of Manhattan in return. I will set the returned values to the variables manhattan_latitude and manhattan_longitude, respectively. These variables will be used for the entirety of the project as the central location data. \n",
        "\n",
        "I will then be using the Foursquare API to pull data regarding existing salad shops around Manhattan. The Foursquare API will return a dataframe containing the names, addresses, latitudes and longitudes of salad places in the area. \n",
        "\n",
        "Finally, I will be using a JSON file containing geospatial data on the boundaries of Manhattan's neighborhoods. I will then use the folium package to visualize which neighborhoods and areas are might benefit from a salad shop. "
      ]
    }
  ]
}